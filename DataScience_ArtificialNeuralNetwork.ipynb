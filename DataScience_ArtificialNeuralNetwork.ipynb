{
  "nbformat": 4,
  "nbformat_minor": 0,
  "metadata": {
    "colab": {
      "provenance": [],
      "toc_visible": true,
      "authorship_tag": "ABX9TyPc92R1ppbThwr+TjG70pVk",
      "include_colab_link": true
    },
    "kernelspec": {
      "name": "python3",
      "display_name": "Python 3"
    },
    "language_info": {
      "name": "python"
    }
  },
  "cells": [
    {
      "cell_type": "markdown",
      "metadata": {
        "id": "view-in-github",
        "colab_type": "text"
      },
      "source": [
        "<a href=\"https://colab.research.google.com/github/kelvynlukito/DataScience_ArtificialNeuralNetwork/blob/main/DataScience_ArtificialNeuralNetwork.ipynb\" target=\"_parent\"><img src=\"https://colab.research.google.com/assets/colab-badge.svg\" alt=\"Open In Colab\"/></a>"
      ]
    },
    {
      "cell_type": "code",
      "execution_count": 2,
      "metadata": {
        "id": "OQu8NUTeXYbK"
      },
      "outputs": [],
      "source": []
    },
    {
      "cell_type": "markdown",
      "source": [
        "# **Artificial Neural Network**"
      ],
      "metadata": {
        "id": "S1hbtLZWuz7k"
      }
    },
    {
      "cell_type": "markdown",
      "source": [
        "### **Import Libraries**"
      ],
      "metadata": {
        "id": "hlBzN6Btu3Ax"
      }
    },
    {
      "cell_type": "code",
      "source": [
        "import numpy as np\n",
        "import pandas as pd\n",
        "import matplotlib.pyplot as plt\n",
        "import seaborn as sns\n",
        "import tensorflow as tf"
      ],
      "metadata": {
        "id": "IEKGI6Q_u6kQ"
      },
      "execution_count": 3,
      "outputs": []
    },
    {
      "cell_type": "code",
      "source": [
        "tf.__version__"
      ],
      "metadata": {
        "colab": {
          "base_uri": "https://localhost:8080/",
          "height": 35
        },
        "id": "Qseno_lxvAxs",
        "outputId": "52b7c8b7-eaa2-47ca-a104-69ae675ff5b3"
      },
      "execution_count": 4,
      "outputs": [
        {
          "output_type": "execute_result",
          "data": {
            "text/plain": [
              "'2.12.0'"
            ],
            "application/vnd.google.colaboratory.intrinsic+json": {
              "type": "string"
            }
          },
          "metadata": {},
          "execution_count": 4
        }
      ]
    },
    {
      "cell_type": "markdown",
      "source": [
        "# **Data Preprocessing**"
      ],
      "metadata": {
        "id": "HMtmNQd1vU2-"
      }
    },
    {
      "cell_type": "markdown",
      "source": [
        "### **Import Dataset**"
      ],
      "metadata": {
        "id": "L_xNmhjRw5mO"
      }
    },
    {
      "cell_type": "code",
      "source": [
        "df = pd.read_csv('/content/Churn_Modelling.csv')\n",
        "df"
      ],
      "metadata": {
        "colab": {
          "base_uri": "https://localhost:8080/",
          "height": 488
        },
        "id": "xXixP640vX0e",
        "outputId": "bc0c135a-04ab-4aaa-f7d1-5d08d90fc7f9"
      },
      "execution_count": 5,
      "outputs": [
        {
          "output_type": "execute_result",
          "data": {
            "text/plain": [
              "      RowNumber  CustomerId    Surname  CreditScore Geography  Gender  Age  \\\n",
              "0             1    15634602   Hargrave          619    France  Female   42   \n",
              "1             2    15647311       Hill          608     Spain  Female   41   \n",
              "2             3    15619304       Onio          502    France  Female   42   \n",
              "3             4    15701354       Boni          699    France  Female   39   \n",
              "4             5    15737888   Mitchell          850     Spain  Female   43   \n",
              "...         ...         ...        ...          ...       ...     ...  ...   \n",
              "9995       9996    15606229   Obijiaku          771    France    Male   39   \n",
              "9996       9997    15569892  Johnstone          516    France    Male   35   \n",
              "9997       9998    15584532        Liu          709    France  Female   36   \n",
              "9998       9999    15682355  Sabbatini          772   Germany    Male   42   \n",
              "9999      10000    15628319     Walker          792    France  Female   28   \n",
              "\n",
              "      Tenure    Balance  NumOfProducts  HasCrCard  IsActiveMember  \\\n",
              "0          2       0.00              1          1               1   \n",
              "1          1   83807.86              1          0               1   \n",
              "2          8  159660.80              3          1               0   \n",
              "3          1       0.00              2          0               0   \n",
              "4          2  125510.82              1          1               1   \n",
              "...      ...        ...            ...        ...             ...   \n",
              "9995       5       0.00              2          1               0   \n",
              "9996      10   57369.61              1          1               1   \n",
              "9997       7       0.00              1          0               1   \n",
              "9998       3   75075.31              2          1               0   \n",
              "9999       4  130142.79              1          1               0   \n",
              "\n",
              "      EstimatedSalary  Exited  \n",
              "0           101348.88       1  \n",
              "1           112542.58       0  \n",
              "2           113931.57       1  \n",
              "3            93826.63       0  \n",
              "4            79084.10       0  \n",
              "...               ...     ...  \n",
              "9995         96270.64       0  \n",
              "9996        101699.77       0  \n",
              "9997         42085.58       1  \n",
              "9998         92888.52       1  \n",
              "9999         38190.78       0  \n",
              "\n",
              "[10000 rows x 14 columns]"
            ],
            "text/html": [
              "\n",
              "  <div id=\"df-6e7683f9-9f1e-42dc-8246-22b8018dc46c\">\n",
              "    <div class=\"colab-df-container\">\n",
              "      <div>\n",
              "<style scoped>\n",
              "    .dataframe tbody tr th:only-of-type {\n",
              "        vertical-align: middle;\n",
              "    }\n",
              "\n",
              "    .dataframe tbody tr th {\n",
              "        vertical-align: top;\n",
              "    }\n",
              "\n",
              "    .dataframe thead th {\n",
              "        text-align: right;\n",
              "    }\n",
              "</style>\n",
              "<table border=\"1\" class=\"dataframe\">\n",
              "  <thead>\n",
              "    <tr style=\"text-align: right;\">\n",
              "      <th></th>\n",
              "      <th>RowNumber</th>\n",
              "      <th>CustomerId</th>\n",
              "      <th>Surname</th>\n",
              "      <th>CreditScore</th>\n",
              "      <th>Geography</th>\n",
              "      <th>Gender</th>\n",
              "      <th>Age</th>\n",
              "      <th>Tenure</th>\n",
              "      <th>Balance</th>\n",
              "      <th>NumOfProducts</th>\n",
              "      <th>HasCrCard</th>\n",
              "      <th>IsActiveMember</th>\n",
              "      <th>EstimatedSalary</th>\n",
              "      <th>Exited</th>\n",
              "    </tr>\n",
              "  </thead>\n",
              "  <tbody>\n",
              "    <tr>\n",
              "      <th>0</th>\n",
              "      <td>1</td>\n",
              "      <td>15634602</td>\n",
              "      <td>Hargrave</td>\n",
              "      <td>619</td>\n",
              "      <td>France</td>\n",
              "      <td>Female</td>\n",
              "      <td>42</td>\n",
              "      <td>2</td>\n",
              "      <td>0.00</td>\n",
              "      <td>1</td>\n",
              "      <td>1</td>\n",
              "      <td>1</td>\n",
              "      <td>101348.88</td>\n",
              "      <td>1</td>\n",
              "    </tr>\n",
              "    <tr>\n",
              "      <th>1</th>\n",
              "      <td>2</td>\n",
              "      <td>15647311</td>\n",
              "      <td>Hill</td>\n",
              "      <td>608</td>\n",
              "      <td>Spain</td>\n",
              "      <td>Female</td>\n",
              "      <td>41</td>\n",
              "      <td>1</td>\n",
              "      <td>83807.86</td>\n",
              "      <td>1</td>\n",
              "      <td>0</td>\n",
              "      <td>1</td>\n",
              "      <td>112542.58</td>\n",
              "      <td>0</td>\n",
              "    </tr>\n",
              "    <tr>\n",
              "      <th>2</th>\n",
              "      <td>3</td>\n",
              "      <td>15619304</td>\n",
              "      <td>Onio</td>\n",
              "      <td>502</td>\n",
              "      <td>France</td>\n",
              "      <td>Female</td>\n",
              "      <td>42</td>\n",
              "      <td>8</td>\n",
              "      <td>159660.80</td>\n",
              "      <td>3</td>\n",
              "      <td>1</td>\n",
              "      <td>0</td>\n",
              "      <td>113931.57</td>\n",
              "      <td>1</td>\n",
              "    </tr>\n",
              "    <tr>\n",
              "      <th>3</th>\n",
              "      <td>4</td>\n",
              "      <td>15701354</td>\n",
              "      <td>Boni</td>\n",
              "      <td>699</td>\n",
              "      <td>France</td>\n",
              "      <td>Female</td>\n",
              "      <td>39</td>\n",
              "      <td>1</td>\n",
              "      <td>0.00</td>\n",
              "      <td>2</td>\n",
              "      <td>0</td>\n",
              "      <td>0</td>\n",
              "      <td>93826.63</td>\n",
              "      <td>0</td>\n",
              "    </tr>\n",
              "    <tr>\n",
              "      <th>4</th>\n",
              "      <td>5</td>\n",
              "      <td>15737888</td>\n",
              "      <td>Mitchell</td>\n",
              "      <td>850</td>\n",
              "      <td>Spain</td>\n",
              "      <td>Female</td>\n",
              "      <td>43</td>\n",
              "      <td>2</td>\n",
              "      <td>125510.82</td>\n",
              "      <td>1</td>\n",
              "      <td>1</td>\n",
              "      <td>1</td>\n",
              "      <td>79084.10</td>\n",
              "      <td>0</td>\n",
              "    </tr>\n",
              "    <tr>\n",
              "      <th>...</th>\n",
              "      <td>...</td>\n",
              "      <td>...</td>\n",
              "      <td>...</td>\n",
              "      <td>...</td>\n",
              "      <td>...</td>\n",
              "      <td>...</td>\n",
              "      <td>...</td>\n",
              "      <td>...</td>\n",
              "      <td>...</td>\n",
              "      <td>...</td>\n",
              "      <td>...</td>\n",
              "      <td>...</td>\n",
              "      <td>...</td>\n",
              "      <td>...</td>\n",
              "    </tr>\n",
              "    <tr>\n",
              "      <th>9995</th>\n",
              "      <td>9996</td>\n",
              "      <td>15606229</td>\n",
              "      <td>Obijiaku</td>\n",
              "      <td>771</td>\n",
              "      <td>France</td>\n",
              "      <td>Male</td>\n",
              "      <td>39</td>\n",
              "      <td>5</td>\n",
              "      <td>0.00</td>\n",
              "      <td>2</td>\n",
              "      <td>1</td>\n",
              "      <td>0</td>\n",
              "      <td>96270.64</td>\n",
              "      <td>0</td>\n",
              "    </tr>\n",
              "    <tr>\n",
              "      <th>9996</th>\n",
              "      <td>9997</td>\n",
              "      <td>15569892</td>\n",
              "      <td>Johnstone</td>\n",
              "      <td>516</td>\n",
              "      <td>France</td>\n",
              "      <td>Male</td>\n",
              "      <td>35</td>\n",
              "      <td>10</td>\n",
              "      <td>57369.61</td>\n",
              "      <td>1</td>\n",
              "      <td>1</td>\n",
              "      <td>1</td>\n",
              "      <td>101699.77</td>\n",
              "      <td>0</td>\n",
              "    </tr>\n",
              "    <tr>\n",
              "      <th>9997</th>\n",
              "      <td>9998</td>\n",
              "      <td>15584532</td>\n",
              "      <td>Liu</td>\n",
              "      <td>709</td>\n",
              "      <td>France</td>\n",
              "      <td>Female</td>\n",
              "      <td>36</td>\n",
              "      <td>7</td>\n",
              "      <td>0.00</td>\n",
              "      <td>1</td>\n",
              "      <td>0</td>\n",
              "      <td>1</td>\n",
              "      <td>42085.58</td>\n",
              "      <td>1</td>\n",
              "    </tr>\n",
              "    <tr>\n",
              "      <th>9998</th>\n",
              "      <td>9999</td>\n",
              "      <td>15682355</td>\n",
              "      <td>Sabbatini</td>\n",
              "      <td>772</td>\n",
              "      <td>Germany</td>\n",
              "      <td>Male</td>\n",
              "      <td>42</td>\n",
              "      <td>3</td>\n",
              "      <td>75075.31</td>\n",
              "      <td>2</td>\n",
              "      <td>1</td>\n",
              "      <td>0</td>\n",
              "      <td>92888.52</td>\n",
              "      <td>1</td>\n",
              "    </tr>\n",
              "    <tr>\n",
              "      <th>9999</th>\n",
              "      <td>10000</td>\n",
              "      <td>15628319</td>\n",
              "      <td>Walker</td>\n",
              "      <td>792</td>\n",
              "      <td>France</td>\n",
              "      <td>Female</td>\n",
              "      <td>28</td>\n",
              "      <td>4</td>\n",
              "      <td>130142.79</td>\n",
              "      <td>1</td>\n",
              "      <td>1</td>\n",
              "      <td>0</td>\n",
              "      <td>38190.78</td>\n",
              "      <td>0</td>\n",
              "    </tr>\n",
              "  </tbody>\n",
              "</table>\n",
              "<p>10000 rows × 14 columns</p>\n",
              "</div>\n",
              "      <button class=\"colab-df-convert\" onclick=\"convertToInteractive('df-6e7683f9-9f1e-42dc-8246-22b8018dc46c')\"\n",
              "              title=\"Convert this dataframe to an interactive table.\"\n",
              "              style=\"display:none;\">\n",
              "        \n",
              "  <svg xmlns=\"http://www.w3.org/2000/svg\" height=\"24px\"viewBox=\"0 0 24 24\"\n",
              "       width=\"24px\">\n",
              "    <path d=\"M0 0h24v24H0V0z\" fill=\"none\"/>\n",
              "    <path d=\"M18.56 5.44l.94 2.06.94-2.06 2.06-.94-2.06-.94-.94-2.06-.94 2.06-2.06.94zm-11 1L8.5 8.5l.94-2.06 2.06-.94-2.06-.94L8.5 2.5l-.94 2.06-2.06.94zm10 10l.94 2.06.94-2.06 2.06-.94-2.06-.94-.94-2.06-.94 2.06-2.06.94z\"/><path d=\"M17.41 7.96l-1.37-1.37c-.4-.4-.92-.59-1.43-.59-.52 0-1.04.2-1.43.59L10.3 9.45l-7.72 7.72c-.78.78-.78 2.05 0 2.83L4 21.41c.39.39.9.59 1.41.59.51 0 1.02-.2 1.41-.59l7.78-7.78 2.81-2.81c.8-.78.8-2.07 0-2.86zM5.41 20L4 18.59l7.72-7.72 1.47 1.35L5.41 20z\"/>\n",
              "  </svg>\n",
              "      </button>\n",
              "      \n",
              "  <style>\n",
              "    .colab-df-container {\n",
              "      display:flex;\n",
              "      flex-wrap:wrap;\n",
              "      gap: 12px;\n",
              "    }\n",
              "\n",
              "    .colab-df-convert {\n",
              "      background-color: #E8F0FE;\n",
              "      border: none;\n",
              "      border-radius: 50%;\n",
              "      cursor: pointer;\n",
              "      display: none;\n",
              "      fill: #1967D2;\n",
              "      height: 32px;\n",
              "      padding: 0 0 0 0;\n",
              "      width: 32px;\n",
              "    }\n",
              "\n",
              "    .colab-df-convert:hover {\n",
              "      background-color: #E2EBFA;\n",
              "      box-shadow: 0px 1px 2px rgba(60, 64, 67, 0.3), 0px 1px 3px 1px rgba(60, 64, 67, 0.15);\n",
              "      fill: #174EA6;\n",
              "    }\n",
              "\n",
              "    [theme=dark] .colab-df-convert {\n",
              "      background-color: #3B4455;\n",
              "      fill: #D2E3FC;\n",
              "    }\n",
              "\n",
              "    [theme=dark] .colab-df-convert:hover {\n",
              "      background-color: #434B5C;\n",
              "      box-shadow: 0px 1px 3px 1px rgba(0, 0, 0, 0.15);\n",
              "      filter: drop-shadow(0px 1px 2px rgba(0, 0, 0, 0.3));\n",
              "      fill: #FFFFFF;\n",
              "    }\n",
              "  </style>\n",
              "\n",
              "      <script>\n",
              "        const buttonEl =\n",
              "          document.querySelector('#df-6e7683f9-9f1e-42dc-8246-22b8018dc46c button.colab-df-convert');\n",
              "        buttonEl.style.display =\n",
              "          google.colab.kernel.accessAllowed ? 'block' : 'none';\n",
              "\n",
              "        async function convertToInteractive(key) {\n",
              "          const element = document.querySelector('#df-6e7683f9-9f1e-42dc-8246-22b8018dc46c');\n",
              "          const dataTable =\n",
              "            await google.colab.kernel.invokeFunction('convertToInteractive',\n",
              "                                                     [key], {});\n",
              "          if (!dataTable) return;\n",
              "\n",
              "          const docLinkHtml = 'Like what you see? Visit the ' +\n",
              "            '<a target=\"_blank\" href=https://colab.research.google.com/notebooks/data_table.ipynb>data table notebook</a>'\n",
              "            + ' to learn more about interactive tables.';\n",
              "          element.innerHTML = '';\n",
              "          dataTable['output_type'] = 'display_data';\n",
              "          await google.colab.output.renderOutput(dataTable, element);\n",
              "          const docLink = document.createElement('div');\n",
              "          docLink.innerHTML = docLinkHtml;\n",
              "          element.appendChild(docLink);\n",
              "        }\n",
              "      </script>\n",
              "    </div>\n",
              "  </div>\n",
              "  "
            ]
          },
          "metadata": {},
          "execution_count": 5
        }
      ]
    },
    {
      "cell_type": "markdown",
      "source": [
        "### **Exploratory Data Analysis (EDA)**"
      ],
      "metadata": {
        "id": "4hVVudVt_6QR"
      }
    },
    {
      "cell_type": "code",
      "source": [
        "col_categorial = [df.select_dtypes(include='object')]\n",
        "col_numeric = [df.select_dtypes(exclude='object')]"
      ],
      "metadata": {
        "id": "IvNgHruN_-Cn"
      },
      "execution_count": 37,
      "outputs": []
    },
    {
      "cell_type": "code",
      "source": [
        "col_numeric"
      ],
      "metadata": {
        "colab": {
          "base_uri": "https://localhost:8080/"
        },
        "id": "hAIymI3UAhy_",
        "outputId": "698f73aa-dc67-414c-8dcd-2a4d8f580a0c"
      },
      "execution_count": 38,
      "outputs": [
        {
          "output_type": "execute_result",
          "data": {
            "text/plain": [
              "[      RowNumber  CustomerId  CreditScore  Age  Tenure    Balance  \\\n",
              " 0             1    15634602          619   42       2       0.00   \n",
              " 1             2    15647311          608   41       1   83807.86   \n",
              " 2             3    15619304          502   42       8  159660.80   \n",
              " 3             4    15701354          699   39       1       0.00   \n",
              " 4             5    15737888          850   43       2  125510.82   \n",
              " ...         ...         ...          ...  ...     ...        ...   \n",
              " 9995       9996    15606229          771   39       5       0.00   \n",
              " 9996       9997    15569892          516   35      10   57369.61   \n",
              " 9997       9998    15584532          709   36       7       0.00   \n",
              " 9998       9999    15682355          772   42       3   75075.31   \n",
              " 9999      10000    15628319          792   28       4  130142.79   \n",
              " \n",
              "       NumOfProducts  HasCrCard  IsActiveMember  EstimatedSalary  Exited  \n",
              " 0                 1          1               1        101348.88       1  \n",
              " 1                 1          0               1        112542.58       0  \n",
              " 2                 3          1               0        113931.57       1  \n",
              " 3                 2          0               0         93826.63       0  \n",
              " 4                 1          1               1         79084.10       0  \n",
              " ...             ...        ...             ...              ...     ...  \n",
              " 9995              2          1               0         96270.64       0  \n",
              " 9996              1          1               1        101699.77       0  \n",
              " 9997              1          0               1         42085.58       1  \n",
              " 9998              2          1               0         92888.52       1  \n",
              " 9999              1          1               0         38190.78       0  \n",
              " \n",
              " [10000 rows x 11 columns]]"
            ]
          },
          "metadata": {},
          "execution_count": 38
        }
      ]
    },
    {
      "cell_type": "code",
      "source": [
        "col_categorial"
      ],
      "metadata": {
        "colab": {
          "base_uri": "https://localhost:8080/"
        },
        "id": "ey2rbbjmAu2e",
        "outputId": "c3862e23-1604-4e5e-d678-ff9b74666cf1"
      },
      "execution_count": 39,
      "outputs": [
        {
          "output_type": "execute_result",
          "data": {
            "text/plain": [
              "[        Surname Geography  Gender\n",
              " 0      Hargrave    France  Female\n",
              " 1          Hill     Spain  Female\n",
              " 2          Onio    France  Female\n",
              " 3          Boni    France  Female\n",
              " 4      Mitchell     Spain  Female\n",
              " ...         ...       ...     ...\n",
              " 9995   Obijiaku    France    Male\n",
              " 9996  Johnstone    France    Male\n",
              " 9997        Liu    France  Female\n",
              " 9998  Sabbatini   Germany    Male\n",
              " 9999     Walker    France  Female\n",
              " \n",
              " [10000 rows x 3 columns]]"
            ]
          },
          "metadata": {},
          "execution_count": 39
        }
      ]
    },
    {
      "cell_type": "code",
      "source": [
        "print(np.unique(df['Gender']))"
      ],
      "metadata": {
        "colab": {
          "base_uri": "https://localhost:8080/"
        },
        "id": "DD0AyGEaFiqB",
        "outputId": "38c9ccae-3cab-4430-8bec-26c595b5bf17"
      },
      "execution_count": 40,
      "outputs": [
        {
          "output_type": "stream",
          "name": "stdout",
          "text": [
            "['Female' 'Male']\n"
          ]
        }
      ]
    },
    {
      "cell_type": "code",
      "source": [
        "print(np.unique(df['Geography']))"
      ],
      "metadata": {
        "colab": {
          "base_uri": "https://localhost:8080/"
        },
        "id": "kyT8_WnEFso8",
        "outputId": "d219753f-23a4-469a-8627-314bd5b654ed"
      },
      "execution_count": 41,
      "outputs": [
        {
          "output_type": "stream",
          "name": "stdout",
          "text": [
            "['France' 'Germany' 'Spain']\n"
          ]
        }
      ]
    },
    {
      "cell_type": "code",
      "source": [
        "data_geo = df['Geography'].value_counts()\n",
        "\n",
        "# define Seaborn color palette to use\n",
        "palette_color = sns.color_palette('bright')\n",
        "  \n",
        "# plotting data on chart\n",
        "plt.pie(data_geo, labels=np.unique(df['Geography']), colors=palette_color, autopct='%.0f%%')\n",
        "  \n",
        "# displaying chart\n",
        "plt.title('Geography Precentage')\n",
        "plt.show()"
      ],
      "metadata": {
        "colab": {
          "base_uri": "https://localhost:8080/",
          "height": 428
        },
        "id": "Nmw6RD4DFxj5",
        "outputId": "c38635ae-58f4-4f4b-b2c0-a1a99fc21033"
      },
      "execution_count": 55,
      "outputs": [
        {
          "output_type": "display_data",
          "data": {
            "text/plain": [
              "<Figure size 640x480 with 1 Axes>"
            ],
            "image/png": "[encoded data removed]"
          },
          "metadata": {}
        }
      ]
    },
    {
      "cell_type": "code",
      "source": [
        "data_geo = df['Gender'].value_counts()\n",
        "\n",
        "# define Seaborn color palette to use\n",
        "palette_color = sns.color_palette('bright')\n",
        "  \n",
        "# plotting data on chart\n",
        "plt.pie(data_geo, labels=np.unique(df['Gender']), colors=palette_color, autopct='%.0f%%')\n",
        "  \n",
        "# displaying chart\n",
        "plt.title('Gender Precentage')\n",
        "plt.show()"
      ],
      "metadata": {
        "colab": {
          "base_uri": "https://localhost:8080/",
          "height": 428
        },
        "id": "-EeyfGe4ISwz",
        "outputId": "6c63c4f9-c8fd-4cfa-dc15-12691d07a722"
      },
      "execution_count": 56,
      "outputs": [
        {
          "output_type": "display_data",
          "data": {
            "text/plain": [
              "<Figure size 640x480 with 1 Axes>"
            ],
            "image/png": "[encoded data removed]"
          },
          "metadata": {}
        }
      ]
    },
    {
      "cell_type": "code",
      "source": [
        "data_Age = df['Age']\n",
        "\n",
        "# Plotting data into histogram\n",
        "sns.displot(data_Age, kde=True, bins=10)\n",
        "\n",
        "# display chart\n",
        "plt.title('Age Distribution')"
      ],
      "metadata": {
        "colab": {
          "base_uri": "https://localhost:8080/",
          "height": 547
        },
        "id": "gPP2RB7dIg72",
        "outputId": "381cd4eb-814e-4d74-ad0a-4ad459b6b155"
      },
      "execution_count": 101,
      "outputs": [
        {
          "output_type": "execute_result",
          "data": {
            "text/plain": [
              "Text(0.5, 1.0, 'Age Distribution')"
            ]
          },
          "metadata": {},
          "execution_count": 101
        },
        {
          "output_type": "display_data",
          "data": {
            "text/plain": [
              "<Figure size 500x500 with 1 Axes>"
            ],
            "image/png": "[encoded data removed]"
          },
          "metadata": {}
        }
      ]
    },
    {
      "cell_type": "code",
      "source": [
        "X = df.iloc[:, 3:-1].values\n",
        "y = df.iloc[:, -1].values"
      ],
      "metadata": {
        "id": "D-yAJj97xG3f"
      },
      "execution_count": 7,
      "outputs": []
    },
    {
      "cell_type": "code",
      "source": [
        "print(X)"
      ],
      "metadata": {
        "colab": {
          "base_uri": "https://localhost:8080/"
        },
        "id": "SD16EvY5xRrE",
        "outputId": "26e7974e-8316-40cd-ef59-4b5a6ed9117c"
      },
      "execution_count": 9,
      "outputs": [
        {
          "output_type": "stream",
          "name": "stdout",
          "text": [
            "[[619 'France' 'Female' ... 1 1 101348.88]\n",
            " [608 'Spain' 'Female' ... 0 1 112542.58]\n",
            " [502 'France' 'Female' ... 1 0 113931.57]\n",
            " ...\n",
            " [709 'France' 'Female' ... 0 1 42085.58]\n",
            " [772 'Germany' 'Male' ... 1 0 92888.52]\n",
            " [792 'France' 'Female' ... 1 0 38190.78]]\n"
          ]
        }
      ]
    },
    {
      "cell_type": "code",
      "source": [
        "print(y)"
      ],
      "metadata": {
        "colab": {
          "base_uri": "https://localhost:8080/"
        },
        "id": "aMgg8PKdxamV",
        "outputId": "0d71f815-3848-472f-9127-a7cc09f135b3"
      },
      "execution_count": 10,
      "outputs": [
        {
          "output_type": "stream",
          "name": "stdout",
          "text": [
            "[1 0 1 ... 1 1 0]\n"
          ]
        }
      ]
    },
    {
      "cell_type": "markdown",
      "source": [
        "### **Encode Categorial Features**"
      ],
      "metadata": {
        "id": "DJmDYiqgxeFg"
      }
    },
    {
      "cell_type": "code",
      "source": [
        "# Label Encoder\n",
        "from sklearn.preprocessing import LabelEncoder\n",
        "le = LabelEncoder()\n",
        "X[:, 2] = le.fit_transform(X[:, 2])"
      ],
      "metadata": {
        "id": "Flmx6WHtxheu"
      },
      "execution_count": 11,
      "outputs": []
    },
    {
      "cell_type": "code",
      "source": [
        "print(X)"
      ],
      "metadata": {
        "colab": {
          "base_uri": "https://localhost:8080/"
        },
        "id": "VrITjXQf9gfN",
        "outputId": "147358cc-80d5-4375-c586-5e5af8f80096"
      },
      "execution_count": 12,
      "outputs": [
        {
          "output_type": "stream",
          "name": "stdout",
          "text": [
            "[[619 'France' 0 ... 1 1 101348.88]\n",
            " [608 'Spain' 0 ... 0 1 112542.58]\n",
            " [502 'France' 0 ... 1 0 113931.57]\n",
            " ...\n",
            " [709 'France' 0 ... 0 1 42085.58]\n",
            " [772 'Germany' 1 ... 1 0 92888.52]\n",
            " [792 'France' 0 ... 1 0 38190.78]]\n"
          ]
        }
      ]
    },
    {
      "cell_type": "code",
      "source": [
        "# One Hot Encoding"
      ],
      "metadata": {
        "id": "vw9hWHVj9pwa"
      },
      "execution_count": null,
      "outputs": []
    },
    {
      "cell_type": "code",
      "source": [
        "from sklearn.compose import ColumnTransformer\n",
        "from sklearn.preprocessing import OneHotEncoder\n",
        "\n",
        "ct = ColumnTransformer(transformers=[('encooder', OneHotEncoder(), [1])], remainder='passthrough')\n",
        "X = np.array(ct.fit_transform(X))"
      ],
      "metadata": {
        "id": "WiDVGEKJ9sal"
      },
      "execution_count": 16,
      "outputs": []
    },
    {
      "cell_type": "code",
      "source": [
        "print(X)"
      ],
      "metadata": {
        "colab": {
          "base_uri": "https://localhost:8080/"
        },
        "id": "TpY2-3mD-YO9",
        "outputId": "557dd7d5-f95e-4873-c700-a4ed977fe9cd"
      },
      "execution_count": 17,
      "outputs": [
        {
          "output_type": "stream",
          "name": "stdout",
          "text": [
            "[[1.0 0.0 0.0 ... 1 1 101348.88]\n",
            " [0.0 0.0 1.0 ... 0 1 112542.58]\n",
            " [1.0 0.0 0.0 ... 1 0 113931.57]\n",
            " ...\n",
            " [1.0 0.0 0.0 ... 0 1 42085.58]\n",
            " [0.0 1.0 0.0 ... 1 0 92888.52]\n",
            " [1.0 0.0 0.0 ... 1 0 38190.78]]\n"
          ]
        }
      ]
    },
    {
      "cell_type": "markdown",
      "source": [
        "### Splitting Training and Testing Set"
      ],
      "metadata": {
        "id": "WsEuux1S-bPt"
      }
    },
    {
      "cell_type": "code",
      "source": [
        "from sklearn.model_selection import train_test_split\n",
        "X_train, X_test, y_train, y_test = train_test_split(X, y, test_size=0.25, random_state=42)"
      ],
      "metadata": {
        "id": "97LcKbEE-fCr"
      },
      "execution_count": 19,
      "outputs": []
    },
    {
      "cell_type": "code",
      "source": [
        "print(len(X_train))\n",
        "print(len(X_test))\n",
        "print(len(y_train))\n",
        "print(len(y_test))"
      ],
      "metadata": {
        "colab": {
          "base_uri": "https://localhost:8080/"
        },
        "id": "E4O-NipU-xaY",
        "outputId": "5a95f45c-2754-4493-c99a-35eb0fe84873"
      },
      "execution_count": 21,
      "outputs": [
        {
          "output_type": "stream",
          "name": "stdout",
          "text": [
            "7500\n",
            "2500\n",
            "7500\n",
            "2500\n"
          ]
        }
      ]
    },
    {
      "cell_type": "markdown",
      "source": [
        "### Feature Scalling"
      ],
      "metadata": {
        "id": "o9tYhtJt-_iS"
      }
    },
    {
      "cell_type": "code",
      "source": [
        "from sklearn.preprocessing import StandardScaler\n",
        "sc = StandardScaler()\n",
        "X_train = sc.fit_transform(X_train)\n",
        "x_test = sc.transform(X_test)"
      ],
      "metadata": {
        "id": "qhny412I_BdL"
      },
      "execution_count": 81,
      "outputs": []
    },
    {
      "cell_type": "code",
      "source": [
        "print(X_train)\n",
        "print(X_test)"
      ],
      "metadata": {
        "colab": {
          "base_uri": "https://localhost:8080/"
        },
        "id": "9PiK9-5m_R2-",
        "outputId": "59410d0a-d7c0-401d-81a9-1e1d6f6cf7ea"
      },
      "execution_count": 82,
      "outputs": [
        {
          "output_type": "stream",
          "name": "stdout",
          "text": [
            "[[ 1.00053348 -0.57776083 -0.57735027 ... -1.53973586  0.96978946\n",
            "  -1.38284424]\n",
            " [-0.99946681  1.73082    -0.57735027 ...  0.64946204 -1.03115165\n",
            "  -1.19589044]\n",
            " [ 1.00053348 -0.57776083 -0.57735027 ... -1.53973586 -1.03115165\n",
            "  -0.68342242]\n",
            " ...\n",
            " [ 1.00053348 -0.57776083 -0.57735027 ... -1.53973586 -1.03115165\n",
            "  -0.14675423]\n",
            " [ 1.00053348 -0.57776083 -0.57735027 ...  0.64946204 -1.03115165\n",
            "  -0.0548954 ]\n",
            " [-0.99946681  1.73082    -0.57735027 ...  0.64946204  0.96978946\n",
            "  -0.81796934]]\n",
            "[[0.0 1.0 0.0 ... 0 0 41788.37]\n",
            " [1.0 0.0 0.0 ... 1 1 146379.3]\n",
            " [0.0 0.0 1.0 ... 1 0 58561.31]\n",
            " ...\n",
            " [1.0 0.0 0.0 ... 1 1 8316.19]\n",
            " [1.0 0.0 0.0 ... 0 0 81292.33]\n",
            " [0.0 1.0 0.0 ... 1 1 58426.81]]\n"
          ]
        }
      ]
    },
    {
      "cell_type": "code",
      "source": [
        "print(len(X_train))\n",
        "print(len(x_test))"
      ],
      "metadata": {
        "colab": {
          "base_uri": "https://localhost:8080/"
        },
        "id": "GsfAQMit_Z4l",
        "outputId": "9d886ee8-d84e-43a1-cfb5-024d6f2af407"
      },
      "execution_count": 83,
      "outputs": [
        {
          "output_type": "stream",
          "name": "stdout",
          "text": [
            "7500\n",
            "2500\n"
          ]
        }
      ]
    },
    {
      "cell_type": "markdown",
      "source": [
        "# **Building Artificial Neural Network**"
      ],
      "metadata": {
        "id": "5JmYOaCTNYtX"
      }
    },
    {
      "cell_type": "markdown",
      "source": [
        "### **ANN Model**"
      ],
      "metadata": {
        "id": "MOJ5S3ZcNrbe"
      }
    },
    {
      "cell_type": "code",
      "source": [
        "ann = tf.keras.models.Sequential()"
      ],
      "metadata": {
        "id": "FC_ZITJjNcw4"
      },
      "execution_count": 84,
      "outputs": []
    },
    {
      "cell_type": "markdown",
      "source": [
        "### **Add Input and First Hidden Layer**"
      ],
      "metadata": {
        "id": "mGcA76FfNxHt"
      }
    },
    {
      "cell_type": "code",
      "source": [
        "ann.add(tf.keras.layers.Dense(units=6, activation='relu'))"
      ],
      "metadata": {
        "id": "4MWTuuPnN2W5"
      },
      "execution_count": 87,
      "outputs": []
    },
    {
      "cell_type": "markdown",
      "source": [
        "### **Add Second Hidden Layer**"
      ],
      "metadata": {
        "id": "pSJ0wvALN_3i"
      }
    },
    {
      "cell_type": "code",
      "source": [
        "ann.add(tf.keras.layers.Dense(units=6, activation='relu'))"
      ],
      "metadata": {
        "id": "inM_kyWxOC5R"
      },
      "execution_count": 88,
      "outputs": []
    },
    {
      "cell_type": "markdown",
      "source": [
        "### **Add Third Hidde Layer**"
      ],
      "metadata": {
        "id": "FudP0kC3OGxy"
      }
    },
    {
      "cell_type": "code",
      "source": [
        "ann.add(tf.keras.layers.Dense(units=6, activation='sigmoid'))"
      ],
      "metadata": {
        "id": "W004wrC2ONI2"
      },
      "execution_count": 89,
      "outputs": []
    },
    {
      "cell_type": "markdown",
      "source": [
        "### **Add Output Layer**"
      ],
      "metadata": {
        "id": "4Z1uzYs2OVVQ"
      }
    },
    {
      "cell_type": "code",
      "source": [
        "ann.add(tf.keras.layers.Dense(units=1, activation='sigmoid'))"
      ],
      "metadata": {
        "id": "7UifOh7KOSjX"
      },
      "execution_count": 90,
      "outputs": []
    },
    {
      "cell_type": "markdown",
      "source": [
        "# **Training ANN Model**"
      ],
      "metadata": {
        "id": "OBO_4k2FPHTE"
      }
    },
    {
      "cell_type": "code",
      "source": [
        "ann.compile(optimizer = 'adam', loss = 'binary_crossentropy', metrics = ['accuracy'])"
      ],
      "metadata": {
        "id": "LyRueuS6PJrH"
      },
      "execution_count": 92,
      "outputs": []
    },
    {
      "cell_type": "code",
      "source": [
        "ann.fit(X_train, y_train, batch_size = 32, epochs = 200)"
      ],
      "metadata": {
        "colab": {
          "base_uri": "https://localhost:8080/"
        },
        "id": "915tBJAAPfIe",
        "outputId": "35f172a1-5335-41a9-d025-54ec944814a4"
      },
      "execution_count": 93,
      "outputs": [
        {
          "output_type": "stream",
          "name": "stdout",
          "text": [
            "Epoch 1/200\n",
            "235/235 [==============================] - 3s 2ms/step - loss: 0.7130 - accuracy: 0.5029\n",
            "Epoch 2/200\n",
            "235/235 [==============================] - 1s 2ms/step - loss: 0.5128 - accuracy: 0.7947\n",
            "Epoch 3/200\n",
            "235/235 [==============================] - 0s 2ms/step - loss: 0.4860 - accuracy: 0.7947\n",
            "Epoch 4/200\n",
            "235/235 [==============================] - 0s 2ms/step - loss: 0.4614 - accuracy: 0.8043\n",
            "Epoch 5/200\n",
            "235/235 [==============================] - 1s 2ms/step - loss: 0.4439 - accuracy: 0.8117\n",
            "Epoch 6/200\n",
            "235/235 [==============================] - 0s 2ms/step - loss: 0.4362 - accuracy: 0.8147\n",
            "Epoch 7/200\n",
            "235/235 [==============================] - 0s 2ms/step - loss: 0.4313 - accuracy: 0.8184\n",
            "Epoch 8/200\n",
            "235/235 [==============================] - 0s 2ms/step - loss: 0.4278 - accuracy: 0.8191\n",
            "Epoch 9/200\n",
            "235/235 [==============================] - 0s 2ms/step - loss: 0.4242 - accuracy: 0.8199\n",
            "Epoch 10/200\n",
            "235/235 [==============================] - 1s 2ms/step - loss: 0.4216 - accuracy: 0.8224\n",
            "Epoch 11/200\n",
            "235/235 [==============================] - 1s 3ms/step - loss: 0.4188 - accuracy: 0.8225\n",
            "Epoch 12/200\n",
            "235/235 [==============================] - 1s 4ms/step - loss: 0.4168 - accuracy: 0.8216\n",
            "Epoch 13/200\n",
            "235/235 [==============================] - 1s 3ms/step - loss: 0.4150 - accuracy: 0.8239\n",
            "Epoch 14/200\n",
            "235/235 [==============================] - 1s 4ms/step - loss: 0.4133 - accuracy: 0.8251\n",
            "Epoch 15/200\n",
            "235/235 [==============================] - 1s 3ms/step - loss: 0.4112 - accuracy: 0.8255\n",
            "Epoch 16/200\n",
            "235/235 [==============================] - 1s 2ms/step - loss: 0.4091 - accuracy: 0.8261\n",
            "Epoch 17/200\n",
            "235/235 [==============================] - 1s 2ms/step - loss: 0.4071 - accuracy: 0.8283\n",
            "Epoch 18/200\n",
            "235/235 [==============================] - 1s 2ms/step - loss: 0.4049 - accuracy: 0.8296\n",
            "Epoch 19/200\n",
            "235/235 [==============================] - 1s 2ms/step - loss: 0.4028 - accuracy: 0.8292\n",
            "Epoch 20/200\n",
            "235/235 [==============================] - 0s 2ms/step - loss: 0.4012 - accuracy: 0.8319\n",
            "Epoch 21/200\n",
            "235/235 [==============================] - 0s 2ms/step - loss: 0.3994 - accuracy: 0.8319\n",
            "Epoch 22/200\n",
            "235/235 [==============================] - 1s 2ms/step - loss: 0.3973 - accuracy: 0.8316\n",
            "Epoch 23/200\n",
            "235/235 [==============================] - 1s 2ms/step - loss: 0.3962 - accuracy: 0.8331\n",
            "Epoch 24/200\n",
            "235/235 [==============================] - 1s 2ms/step - loss: 0.3945 - accuracy: 0.8327\n",
            "Epoch 25/200\n",
            "235/235 [==============================] - 1s 2ms/step - loss: 0.3935 - accuracy: 0.8333\n",
            "Epoch 26/200\n",
            "235/235 [==============================] - 1s 2ms/step - loss: 0.3921 - accuracy: 0.8337\n",
            "Epoch 27/200\n",
            "235/235 [==============================] - 1s 2ms/step - loss: 0.3907 - accuracy: 0.8349\n",
            "Epoch 28/200\n",
            "235/235 [==============================] - 0s 2ms/step - loss: 0.3898 - accuracy: 0.8389\n",
            "Epoch 29/200\n",
            "235/235 [==============================] - 1s 2ms/step - loss: 0.3879 - accuracy: 0.8385\n",
            "Epoch 30/200\n",
            "235/235 [==============================] - 1s 2ms/step - loss: 0.3867 - accuracy: 0.8389\n",
            "Epoch 31/200\n",
            "235/235 [==============================] - 1s 2ms/step - loss: 0.3843 - accuracy: 0.8424\n",
            "Epoch 32/200\n",
            "235/235 [==============================] - 0s 2ms/step - loss: 0.3820 - accuracy: 0.8425\n",
            "Epoch 33/200\n",
            "235/235 [==============================] - 0s 2ms/step - loss: 0.3796 - accuracy: 0.8449\n",
            "Epoch 34/200\n",
            "235/235 [==============================] - 1s 3ms/step - loss: 0.3759 - accuracy: 0.8461\n",
            "Epoch 35/200\n",
            "235/235 [==============================] - 1s 3ms/step - loss: 0.3719 - accuracy: 0.8452\n",
            "Epoch 36/200\n",
            "235/235 [==============================] - 1s 3ms/step - loss: 0.3694 - accuracy: 0.8452\n",
            "Epoch 37/200\n",
            "235/235 [==============================] - 1s 3ms/step - loss: 0.3676 - accuracy: 0.8460\n",
            "Epoch 38/200\n",
            "235/235 [==============================] - 1s 3ms/step - loss: 0.3653 - accuracy: 0.8483\n",
            "Epoch 39/200\n",
            "235/235 [==============================] - 0s 2ms/step - loss: 0.3632 - accuracy: 0.8500\n",
            "Epoch 40/200\n",
            "235/235 [==============================] - 0s 2ms/step - loss: 0.3617 - accuracy: 0.8504\n",
            "Epoch 41/200\n",
            "235/235 [==============================] - 0s 2ms/step - loss: 0.3602 - accuracy: 0.8524\n",
            "Epoch 42/200\n",
            "235/235 [==============================] - 0s 2ms/step - loss: 0.3590 - accuracy: 0.8516\n",
            "Epoch 43/200\n",
            "235/235 [==============================] - 0s 2ms/step - loss: 0.3570 - accuracy: 0.8511\n",
            "Epoch 44/200\n",
            "235/235 [==============================] - 1s 2ms/step - loss: 0.3563 - accuracy: 0.8524\n",
            "Epoch 45/200\n",
            "235/235 [==============================] - 1s 2ms/step - loss: 0.3542 - accuracy: 0.8531\n",
            "Epoch 46/200\n",
            "235/235 [==============================] - 1s 2ms/step - loss: 0.3544 - accuracy: 0.8525\n",
            "Epoch 47/200\n",
            "235/235 [==============================] - 0s 2ms/step - loss: 0.3529 - accuracy: 0.8532\n",
            "Epoch 48/200\n",
            "235/235 [==============================] - 0s 2ms/step - loss: 0.3520 - accuracy: 0.8540\n",
            "Epoch 49/200\n",
            "235/235 [==============================] - 1s 2ms/step - loss: 0.3507 - accuracy: 0.8543\n",
            "Epoch 50/200\n",
            "235/235 [==============================] - 1s 2ms/step - loss: 0.3496 - accuracy: 0.8539\n",
            "Epoch 51/200\n",
            "235/235 [==============================] - 0s 2ms/step - loss: 0.3491 - accuracy: 0.8527\n",
            "Epoch 52/200\n",
            "235/235 [==============================] - 0s 2ms/step - loss: 0.3479 - accuracy: 0.8547\n",
            "Epoch 53/200\n",
            "235/235 [==============================] - 0s 2ms/step - loss: 0.3474 - accuracy: 0.8536\n",
            "Epoch 54/200\n",
            "235/235 [==============================] - 1s 2ms/step - loss: 0.3460 - accuracy: 0.8548\n",
            "Epoch 55/200\n",
            "235/235 [==============================] - 0s 2ms/step - loss: 0.3463 - accuracy: 0.8544\n",
            "Epoch 56/200\n",
            "235/235 [==============================] - 1s 2ms/step - loss: 0.3451 - accuracy: 0.8539\n",
            "Epoch 57/200\n",
            "235/235 [==============================] - 0s 2ms/step - loss: 0.3446 - accuracy: 0.8560\n",
            "Epoch 58/200\n",
            "235/235 [==============================] - 1s 3ms/step - loss: 0.3442 - accuracy: 0.8556\n",
            "Epoch 59/200\n",
            "235/235 [==============================] - 1s 3ms/step - loss: 0.3443 - accuracy: 0.8545\n",
            "Epoch 60/200\n",
            "235/235 [==============================] - 1s 4ms/step - loss: 0.3436 - accuracy: 0.8556\n",
            "Epoch 61/200\n",
            "235/235 [==============================] - 1s 3ms/step - loss: 0.3436 - accuracy: 0.8547\n",
            "Epoch 62/200\n",
            "235/235 [==============================] - 1s 3ms/step - loss: 0.3428 - accuracy: 0.8568\n",
            "Epoch 63/200\n",
            "235/235 [==============================] - 0s 2ms/step - loss: 0.3420 - accuracy: 0.8557\n",
            "Epoch 64/200\n",
            "235/235 [==============================] - 1s 2ms/step - loss: 0.3423 - accuracy: 0.8591\n",
            "Epoch 65/200\n",
            "235/235 [==============================] - 0s 2ms/step - loss: 0.3421 - accuracy: 0.8541\n",
            "Epoch 66/200\n",
            "235/235 [==============================] - 1s 2ms/step - loss: 0.3420 - accuracy: 0.8569\n",
            "Epoch 67/200\n",
            "235/235 [==============================] - 0s 2ms/step - loss: 0.3414 - accuracy: 0.8569\n",
            "Epoch 68/200\n",
            "235/235 [==============================] - 0s 2ms/step - loss: 0.3413 - accuracy: 0.8577\n",
            "Epoch 69/200\n",
            "235/235 [==============================] - 0s 2ms/step - loss: 0.3405 - accuracy: 0.8589\n",
            "Epoch 70/200\n",
            "235/235 [==============================] - 1s 2ms/step - loss: 0.3405 - accuracy: 0.8592\n",
            "Epoch 71/200\n",
            "235/235 [==============================] - 0s 2ms/step - loss: 0.3415 - accuracy: 0.8575\n",
            "Epoch 72/200\n",
            "235/235 [==============================] - 0s 2ms/step - loss: 0.3406 - accuracy: 0.8580\n",
            "Epoch 73/200\n",
            "235/235 [==============================] - 0s 2ms/step - loss: 0.3405 - accuracy: 0.8580\n",
            "Epoch 74/200\n",
            "235/235 [==============================] - 1s 2ms/step - loss: 0.3399 - accuracy: 0.8572\n",
            "Epoch 75/200\n",
            "235/235 [==============================] - 0s 2ms/step - loss: 0.3400 - accuracy: 0.8588\n",
            "Epoch 76/200\n",
            "235/235 [==============================] - 1s 2ms/step - loss: 0.3394 - accuracy: 0.8575\n",
            "Epoch 77/200\n",
            "235/235 [==============================] - 0s 2ms/step - loss: 0.3401 - accuracy: 0.8588\n",
            "Epoch 78/200\n",
            "235/235 [==============================] - 1s 2ms/step - loss: 0.3397 - accuracy: 0.8601\n",
            "Epoch 79/200\n",
            "235/235 [==============================] - 1s 2ms/step - loss: 0.3388 - accuracy: 0.8589\n",
            "Epoch 80/200\n",
            "235/235 [==============================] - 1s 2ms/step - loss: 0.3387 - accuracy: 0.8599\n",
            "Epoch 81/200\n",
            "235/235 [==============================] - 0s 2ms/step - loss: 0.3394 - accuracy: 0.8580\n",
            "Epoch 82/200\n",
            "235/235 [==============================] - 1s 3ms/step - loss: 0.3389 - accuracy: 0.8585\n",
            "Epoch 83/200\n",
            "235/235 [==============================] - 1s 4ms/step - loss: 0.3383 - accuracy: 0.8583\n",
            "Epoch 84/200\n",
            "235/235 [==============================] - 1s 3ms/step - loss: 0.3390 - accuracy: 0.8587\n",
            "Epoch 85/200\n",
            "235/235 [==============================] - 1s 3ms/step - loss: 0.3387 - accuracy: 0.8585\n",
            "Epoch 86/200\n",
            "235/235 [==============================] - 0s 2ms/step - loss: 0.3380 - accuracy: 0.8595\n",
            "Epoch 87/200\n",
            "235/235 [==============================] - 0s 2ms/step - loss: 0.3381 - accuracy: 0.8597\n",
            "Epoch 88/200\n",
            "235/235 [==============================] - 1s 2ms/step - loss: 0.3374 - accuracy: 0.8589\n",
            "Epoch 89/200\n",
            "235/235 [==============================] - 1s 2ms/step - loss: 0.3380 - accuracy: 0.8577\n",
            "Epoch 90/200\n",
            "235/235 [==============================] - 1s 2ms/step - loss: 0.3382 - accuracy: 0.8600\n",
            "Epoch 91/200\n",
            "235/235 [==============================] - 1s 2ms/step - loss: 0.3380 - accuracy: 0.8585\n",
            "Epoch 92/200\n",
            "235/235 [==============================] - 1s 2ms/step - loss: 0.3380 - accuracy: 0.8585\n",
            "Epoch 93/200\n",
            "235/235 [==============================] - 0s 2ms/step - loss: 0.3379 - accuracy: 0.8603\n",
            "Epoch 94/200\n",
            "235/235 [==============================] - 0s 2ms/step - loss: 0.3379 - accuracy: 0.8588\n",
            "Epoch 95/200\n",
            "235/235 [==============================] - 0s 2ms/step - loss: 0.3383 - accuracy: 0.8589\n",
            "Epoch 96/200\n",
            "235/235 [==============================] - 1s 2ms/step - loss: 0.3366 - accuracy: 0.8609\n",
            "Epoch 97/200\n",
            "235/235 [==============================] - 1s 2ms/step - loss: 0.3371 - accuracy: 0.8589\n",
            "Epoch 98/200\n",
            "235/235 [==============================] - 1s 2ms/step - loss: 0.3384 - accuracy: 0.8589\n",
            "Epoch 99/200\n",
            "235/235 [==============================] - 0s 2ms/step - loss: 0.3377 - accuracy: 0.8588\n",
            "Epoch 100/200\n",
            "235/235 [==============================] - 0s 2ms/step - loss: 0.3365 - accuracy: 0.8603\n",
            "Epoch 101/200\n",
            "235/235 [==============================] - 0s 2ms/step - loss: 0.3369 - accuracy: 0.8583\n",
            "Epoch 102/200\n",
            "235/235 [==============================] - 1s 2ms/step - loss: 0.3376 - accuracy: 0.8595\n",
            "Epoch 103/200\n",
            "235/235 [==============================] - 0s 2ms/step - loss: 0.3371 - accuracy: 0.8605\n",
            "Epoch 104/200\n",
            "235/235 [==============================] - 1s 2ms/step - loss: 0.3367 - accuracy: 0.8587\n",
            "Epoch 105/200\n",
            "235/235 [==============================] - 1s 3ms/step - loss: 0.3366 - accuracy: 0.8599\n",
            "Epoch 106/200\n",
            "235/235 [==============================] - 1s 3ms/step - loss: 0.3366 - accuracy: 0.8575\n",
            "Epoch 107/200\n",
            "235/235 [==============================] - 1s 3ms/step - loss: 0.3367 - accuracy: 0.8595\n",
            "Epoch 108/200\n",
            "235/235 [==============================] - 1s 3ms/step - loss: 0.3369 - accuracy: 0.8577\n",
            "Epoch 109/200\n",
            "235/235 [==============================] - 1s 2ms/step - loss: 0.3371 - accuracy: 0.8585\n",
            "Epoch 110/200\n",
            "235/235 [==============================] - 1s 2ms/step - loss: 0.3367 - accuracy: 0.8584\n",
            "Epoch 111/200\n",
            "235/235 [==============================] - 0s 2ms/step - loss: 0.3365 - accuracy: 0.8609\n",
            "Epoch 112/200\n",
            "235/235 [==============================] - 1s 2ms/step - loss: 0.3366 - accuracy: 0.8607\n",
            "Epoch 113/200\n",
            "235/235 [==============================] - 1s 2ms/step - loss: 0.3365 - accuracy: 0.8592\n",
            "Epoch 114/200\n",
            "235/235 [==============================] - 1s 2ms/step - loss: 0.3366 - accuracy: 0.8605\n",
            "Epoch 115/200\n",
            "235/235 [==============================] - 1s 2ms/step - loss: 0.3362 - accuracy: 0.8596\n",
            "Epoch 116/200\n",
            "235/235 [==============================] - 1s 2ms/step - loss: 0.3357 - accuracy: 0.8620\n",
            "Epoch 117/200\n",
            "235/235 [==============================] - 1s 2ms/step - loss: 0.3364 - accuracy: 0.8596\n",
            "Epoch 118/200\n",
            "235/235 [==============================] - 1s 2ms/step - loss: 0.3362 - accuracy: 0.8572\n",
            "Epoch 119/200\n",
            "235/235 [==============================] - 0s 2ms/step - loss: 0.3365 - accuracy: 0.8612\n",
            "Epoch 120/200\n",
            "235/235 [==============================] - 1s 2ms/step - loss: 0.3361 - accuracy: 0.8604\n",
            "Epoch 121/200\n",
            "235/235 [==============================] - 1s 2ms/step - loss: 0.3363 - accuracy: 0.8609\n",
            "Epoch 122/200\n",
            "235/235 [==============================] - 1s 2ms/step - loss: 0.3365 - accuracy: 0.8577\n",
            "Epoch 123/200\n",
            "235/235 [==============================] - 0s 2ms/step - loss: 0.3362 - accuracy: 0.8603\n",
            "Epoch 124/200\n",
            "235/235 [==============================] - 1s 2ms/step - loss: 0.3358 - accuracy: 0.8583\n",
            "Epoch 125/200\n",
            "235/235 [==============================] - 0s 2ms/step - loss: 0.3362 - accuracy: 0.8599\n",
            "Epoch 126/200\n",
            "235/235 [==============================] - 1s 2ms/step - loss: 0.3362 - accuracy: 0.8593\n",
            "Epoch 127/200\n",
            "235/235 [==============================] - 0s 2ms/step - loss: 0.3358 - accuracy: 0.8607\n",
            "Epoch 128/200\n",
            "235/235 [==============================] - 1s 3ms/step - loss: 0.3358 - accuracy: 0.8603\n",
            "Epoch 129/200\n",
            "235/235 [==============================] - 1s 3ms/step - loss: 0.3359 - accuracy: 0.8611\n",
            "Epoch 130/200\n",
            "235/235 [==============================] - 1s 4ms/step - loss: 0.3360 - accuracy: 0.8601\n",
            "Epoch 131/200\n",
            "235/235 [==============================] - 1s 3ms/step - loss: 0.3354 - accuracy: 0.8609\n",
            "Epoch 132/200\n",
            "235/235 [==============================] - 1s 2ms/step - loss: 0.3365 - accuracy: 0.8612\n",
            "Epoch 133/200\n",
            "235/235 [==============================] - 0s 2ms/step - loss: 0.3358 - accuracy: 0.8599\n",
            "Epoch 134/200\n",
            "235/235 [==============================] - 0s 2ms/step - loss: 0.3355 - accuracy: 0.8599\n",
            "Epoch 135/200\n",
            "235/235 [==============================] - 0s 2ms/step - loss: 0.3360 - accuracy: 0.8615\n",
            "Epoch 136/200\n",
            "235/235 [==============================] - 1s 2ms/step - loss: 0.3358 - accuracy: 0.8612\n",
            "Epoch 137/200\n",
            "235/235 [==============================] - 1s 2ms/step - loss: 0.3360 - accuracy: 0.8585\n",
            "Epoch 138/200\n",
            "235/235 [==============================] - 0s 2ms/step - loss: 0.3359 - accuracy: 0.8617\n",
            "Epoch 139/200\n",
            "235/235 [==============================] - 1s 2ms/step - loss: 0.3353 - accuracy: 0.8604\n",
            "Epoch 140/200\n",
            "235/235 [==============================] - 0s 2ms/step - loss: 0.3348 - accuracy: 0.8615\n",
            "Epoch 141/200\n",
            "235/235 [==============================] - 0s 2ms/step - loss: 0.3354 - accuracy: 0.8581\n",
            "Epoch 142/200\n",
            "235/235 [==============================] - 1s 2ms/step - loss: 0.3350 - accuracy: 0.8611\n",
            "Epoch 143/200\n",
            "235/235 [==============================] - 0s 2ms/step - loss: 0.3354 - accuracy: 0.8597\n",
            "Epoch 144/200\n",
            "235/235 [==============================] - 1s 2ms/step - loss: 0.3353 - accuracy: 0.8603\n",
            "Epoch 145/200\n",
            "235/235 [==============================] - 0s 2ms/step - loss: 0.3353 - accuracy: 0.8599\n",
            "Epoch 146/200\n",
            "235/235 [==============================] - 0s 2ms/step - loss: 0.3350 - accuracy: 0.8611\n",
            "Epoch 147/200\n",
            "235/235 [==============================] - 0s 2ms/step - loss: 0.3357 - accuracy: 0.8600\n",
            "Epoch 148/200\n",
            "235/235 [==============================] - 1s 2ms/step - loss: 0.3355 - accuracy: 0.8595\n",
            "Epoch 149/200\n",
            "235/235 [==============================] - 0s 2ms/step - loss: 0.3352 - accuracy: 0.8611\n",
            "Epoch 150/200\n",
            "235/235 [==============================] - 0s 2ms/step - loss: 0.3349 - accuracy: 0.8601\n",
            "Epoch 151/200\n",
            "235/235 [==============================] - 0s 2ms/step - loss: 0.3350 - accuracy: 0.8608\n",
            "Epoch 152/200\n",
            "235/235 [==============================] - 1s 3ms/step - loss: 0.3354 - accuracy: 0.8593\n",
            "Epoch 153/200\n",
            "235/235 [==============================] - 1s 3ms/step - loss: 0.3347 - accuracy: 0.8581\n",
            "Epoch 154/200\n",
            "235/235 [==============================] - 1s 3ms/step - loss: 0.3346 - accuracy: 0.8615\n",
            "Epoch 155/200\n",
            "235/235 [==============================] - 1s 3ms/step - loss: 0.3347 - accuracy: 0.8620\n",
            "Epoch 156/200\n",
            "235/235 [==============================] - 0s 2ms/step - loss: 0.3351 - accuracy: 0.8605\n",
            "Epoch 157/200\n",
            "235/235 [==============================] - 1s 2ms/step - loss: 0.3345 - accuracy: 0.8585\n",
            "Epoch 158/200\n",
            "235/235 [==============================] - 1s 2ms/step - loss: 0.3350 - accuracy: 0.8603\n",
            "Epoch 159/200\n",
            "235/235 [==============================] - 0s 2ms/step - loss: 0.3344 - accuracy: 0.8620\n",
            "Epoch 160/200\n",
            "235/235 [==============================] - 0s 2ms/step - loss: 0.3349 - accuracy: 0.8604\n",
            "Epoch 161/200\n",
            "235/235 [==============================] - 1s 2ms/step - loss: 0.3349 - accuracy: 0.8583\n",
            "Epoch 162/200\n",
            "235/235 [==============================] - 1s 2ms/step - loss: 0.3354 - accuracy: 0.8623\n",
            "Epoch 163/200\n",
            "235/235 [==============================] - 1s 2ms/step - loss: 0.3351 - accuracy: 0.8595\n",
            "Epoch 164/200\n",
            "235/235 [==============================] - 0s 2ms/step - loss: 0.3353 - accuracy: 0.8612\n",
            "Epoch 165/200\n",
            "235/235 [==============================] - 1s 2ms/step - loss: 0.3345 - accuracy: 0.8595\n",
            "Epoch 166/200\n",
            "235/235 [==============================] - 1s 2ms/step - loss: 0.3351 - accuracy: 0.8597\n",
            "Epoch 167/200\n",
            "235/235 [==============================] - 1s 2ms/step - loss: 0.3353 - accuracy: 0.8577\n",
            "Epoch 168/200\n",
            "235/235 [==============================] - 1s 2ms/step - loss: 0.3342 - accuracy: 0.8607\n",
            "Epoch 169/200\n",
            "235/235 [==============================] - 1s 2ms/step - loss: 0.3336 - accuracy: 0.8608\n",
            "Epoch 170/200\n",
            "235/235 [==============================] - 0s 2ms/step - loss: 0.3349 - accuracy: 0.8607\n",
            "Epoch 171/200\n",
            "235/235 [==============================] - 1s 2ms/step - loss: 0.3340 - accuracy: 0.8608\n",
            "Epoch 172/200\n",
            "235/235 [==============================] - 0s 2ms/step - loss: 0.3343 - accuracy: 0.8611\n",
            "Epoch 173/200\n",
            "235/235 [==============================] - 1s 2ms/step - loss: 0.3347 - accuracy: 0.8609\n",
            "Epoch 174/200\n",
            "235/235 [==============================] - 1s 2ms/step - loss: 0.3345 - accuracy: 0.8593\n",
            "Epoch 175/200\n",
            "235/235 [==============================] - 1s 3ms/step - loss: 0.3343 - accuracy: 0.8607\n",
            "Epoch 176/200\n",
            "235/235 [==============================] - 3s 11ms/step - loss: 0.3347 - accuracy: 0.8601\n",
            "Epoch 177/200\n",
            "235/235 [==============================] - 1s 2ms/step - loss: 0.3347 - accuracy: 0.8607\n",
            "Epoch 178/200\n",
            "235/235 [==============================] - 1s 2ms/step - loss: 0.3340 - accuracy: 0.8608\n",
            "Epoch 179/200\n",
            "235/235 [==============================] - 0s 2ms/step - loss: 0.3357 - accuracy: 0.8587\n",
            "Epoch 180/200\n",
            "235/235 [==============================] - 1s 2ms/step - loss: 0.3343 - accuracy: 0.8599\n",
            "Epoch 181/200\n",
            "235/235 [==============================] - 1s 2ms/step - loss: 0.3347 - accuracy: 0.8593\n",
            "Epoch 182/200\n",
            "235/235 [==============================] - 1s 2ms/step - loss: 0.3346 - accuracy: 0.8596\n",
            "Epoch 183/200\n",
            "235/235 [==============================] - 1s 2ms/step - loss: 0.3342 - accuracy: 0.8588\n",
            "Epoch 184/200\n",
            "235/235 [==============================] - 1s 2ms/step - loss: 0.3345 - accuracy: 0.8593\n",
            "Epoch 185/200\n",
            "235/235 [==============================] - 1s 2ms/step - loss: 0.3347 - accuracy: 0.8600\n",
            "Epoch 186/200\n",
            "235/235 [==============================] - 1s 2ms/step - loss: 0.3343 - accuracy: 0.8600\n",
            "Epoch 187/200\n",
            "235/235 [==============================] - 0s 2ms/step - loss: 0.3339 - accuracy: 0.8604\n",
            "Epoch 188/200\n",
            "235/235 [==============================] - 1s 2ms/step - loss: 0.3334 - accuracy: 0.8625\n",
            "Epoch 189/200\n",
            "235/235 [==============================] - 1s 2ms/step - loss: 0.3343 - accuracy: 0.8600\n",
            "Epoch 190/200\n",
            "235/235 [==============================] - 1s 2ms/step - loss: 0.3349 - accuracy: 0.8607\n",
            "Epoch 191/200\n",
            "235/235 [==============================] - 1s 2ms/step - loss: 0.3345 - accuracy: 0.8617\n",
            "Epoch 192/200\n",
            "235/235 [==============================] - 1s 2ms/step - loss: 0.3340 - accuracy: 0.8609\n",
            "Epoch 193/200\n",
            "235/235 [==============================] - 1s 2ms/step - loss: 0.3340 - accuracy: 0.8607\n",
            "Epoch 194/200\n",
            "235/235 [==============================] - 1s 2ms/step - loss: 0.3350 - accuracy: 0.8587\n",
            "Epoch 195/200\n",
            "235/235 [==============================] - 1s 3ms/step - loss: 0.3340 - accuracy: 0.8624\n",
            "Epoch 196/200\n",
            "235/235 [==============================] - 1s 3ms/step - loss: 0.3339 - accuracy: 0.8577\n",
            "Epoch 197/200\n",
            "235/235 [==============================] - 1s 3ms/step - loss: 0.3342 - accuracy: 0.8600\n",
            "Epoch 198/200\n",
            "235/235 [==============================] - 1s 3ms/step - loss: 0.3341 - accuracy: 0.8612\n",
            "Epoch 199/200\n",
            "235/235 [==============================] - 1s 3ms/step - loss: 0.3341 - accuracy: 0.8607\n",
            "Epoch 200/200\n",
            "235/235 [==============================] - 1s 2ms/step - loss: 0.3337 - accuracy: 0.8585\n"
          ]
        },
        {
          "output_type": "execute_result",
          "data": {
            "text/plain": [
              "<keras.callbacks.History at 0x7fa921e4ce20>"
            ]
          },
          "metadata": {},
          "execution_count": 93
        }
      ]
    },
    {
      "cell_type": "markdown",
      "source": [
        "# **Making Prediction**"
      ],
      "metadata": {
        "id": "yHczn6f8QQqC"
      }
    },
    {
      "cell_type": "code",
      "source": [
        "X_test = np.asarray(X_test).astype('float32')\n",
        "y_pred = ann.predict(X_test)\n",
        "y_pred = (y_pred > 0.5)\n",
        "print(np.concatenate((y_pred.reshape(len(y_pred),1), y_test.reshape(len(y_test),1)),1))"
      ],
      "metadata": {
        "colab": {
          "base_uri": "https://localhost:8080/"
        },
        "id": "OVMBHTAtQEi5",
        "outputId": "96d68a89-27be-4ba8-8ebc-02a314930b63"
      },
      "execution_count": 95,
      "outputs": [
        {
          "output_type": "stream",
          "name": "stdout",
          "text": [
            "79/79 [==============================] - 1s 6ms/step\n",
            "[[0 0]\n",
            " [0 0]\n",
            " [0 0]\n",
            " ...\n",
            " [0 0]\n",
            " [0 0]\n",
            " [0 0]]\n"
          ]
        }
      ]
    },
    {
      "cell_type": "code",
      "source": [
        "from sklearn.metrics import confusion_matrix, accuracy_score\n",
        "cm = confusion_matrix(y_test, y_pred)\n",
        "print(cm)\n",
        "print(f'Accuracy Score : {accuracy_score(y_test, y_pred)}')"
      ],
      "metadata": {
        "colab": {
          "base_uri": "https://localhost:8080/"
        },
        "id": "0MnnE2SfQ48I",
        "outputId": "8fc976a4-7748-454d-d182-420709351d59"
      },
      "execution_count": 97,
      "outputs": [
        {
          "output_type": "stream",
          "name": "stdout",
          "text": [
            "[[2003    0]\n",
            " [ 497    0]]\n",
            "Accuracy Score : 0.8012\n"
          ]
        }
      ]
    },
    {
      "cell_type": "code",
      "source": [
        "sns.heatmap(data=cm, annot=True, cmap='Blues')\n",
        "plt.xlabel('Actual Label')\n",
        "plt.ylabel('Predicted Label')\n",
        "plt.title(f'Accuracy Score {accuracy_score(y_pred,y_test)}')"
      ],
      "metadata": {
        "colab": {
          "base_uri": "https://localhost:8080/",
          "height": 490
        },
        "id": "M_Sh88-4Reri",
        "outputId": "0e1b066b-765c-4b4e-c087-290b9c76e132"
      },
      "execution_count": 98,
      "outputs": [
        {
          "output_type": "execute_result",
          "data": {
            "text/plain": [
              "Text(0.5, 1.0, 'Accuracy Score 0.8012')"
            ]
          },
          "metadata": {},
          "execution_count": 98
        },
        {
          "output_type": "display_data",
          "data": {
            "text/plain": [
              "<Figure size 640x480 with 2 Axes>"
            ],
            "image/png": "[encoded data removed]"
          },
          "metadata": {}
        }
      ]
    }
  ]
}